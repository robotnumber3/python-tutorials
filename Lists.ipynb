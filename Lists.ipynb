{
 "cells": [
  {
   "cell_type": "markdown",
   "metadata": {},
   "source": [
    "#  Lists\n",
    "\n",
    "Lists are mutable, ordered, iterable, and can have multiple element types. Lists can also have duplicate elements.  \n",
    "\n",
    "[ ] indicate a list, and elements are separated with commas.\n",
    "\n",
    "PEP8 convention states that, in general, you should have one space after every comma:  \n",
    "`[1, 2, 3, 4]`  not  `[1,2,3,4]`\n",
    "\n",
    "There are two ways to define a list:\n",
    "\n",
    "1. Assigning a list to a variable:\n",
    "\n",
    "`list_name = [list_elements_here]` \n",
    "\n",
    "Ex: `letters = ['a', 'b', 'c']` or\n",
    "\n",
    "__________\n",
    "\n",
    "2. Creating a list from an iterable object (list, dict, set, string, tuple) using the **list( )** function:\n",
    "\n",
    "`iterable_name = (iterable_elements_here)`   \n",
    "`list_name = list(iterable_name)`\n",
    "\n",
    "Ex:   \n",
    "`letters = (a, b, c)`   \n",
    "`list_of_letters = list(letters)`  \n",
    "\n",
    "In the above example, you could use a list, dict, set, string, or tuple to pass to list( ):  \n",
    "\n",
    "`['a', 'b', 'c']` or `('a':1, 'b':2, 'c':3)` or `{'a', 'b', 'c'}` or `\"abc\"` or `('a', 'b', 'c')`  \n",
    "\n",
    "**list( )** is a useful function to convert the above iterable types into a list.\n"
   ]
  },
  {
   "cell_type": "code",
   "execution_count": 568,
   "metadata": {},
   "outputs": [],
   "source": [
    "nums = [1, 2, 3]\n",
    "names = ['David', 'Miguel', 'Seva', 'Python crash course']"
   ]
  },
  {
   "cell_type": "markdown",
   "metadata": {},
   "source": [
    "Although a list can have multiple object types (as below), best practice suggests keeping a list's elements the same type – if possible, use a tuple instead for multiple types of data."
   ]
  },
  {
   "cell_type": "code",
   "execution_count": 521,
   "metadata": {},
   "outputs": [],
   "source": [
    "legal_list = ['hi', 1, [1, 2], (4, 5), 7.31] # str, int, list, tuple, float"
   ]
  },
  {
   "cell_type": "code",
   "execution_count": 522,
   "metadata": {},
   "outputs": [
    {
     "name": "stdout",
     "output_type": "stream",
     "text": [
      "['hi', 1, [1, 2], (4, 5), 7.31]\n"
     ]
    }
   ],
   "source": [
    "print(legal_list)"
   ]
  },
  {
   "cell_type": "code",
   "execution_count": 523,
   "metadata": {},
   "outputs": [
    {
     "name": "stdout",
     "output_type": "stream",
     "text": [
      "[123, 'xyz', 'zara', 'abc']\n"
     ]
    }
   ],
   "source": [
    "letters = (123, 'xyz', 'zara', 'abc')  # tuple\n",
    "someletters = list(letters)  # convert to a list\n",
    "print(someletters)"
   ]
  },
  {
   "cell_type": "code",
   "execution_count": 524,
   "metadata": {},
   "outputs": [
    {
     "name": "stdout",
     "output_type": "stream",
     "text": [
      "['D', 'a', 'v', 'i', 'd']\n"
     ]
    }
   ],
   "source": [
    "name = \"David\"\n",
    "name_list = list(name)\n",
    "print(name_list)"
   ]
  },
  {
   "cell_type": "markdown",
   "metadata": {},
   "source": [
    "### Accessing items in a list\n",
    "Because lists are **ordered**, you can access them using an index number in brackets. Remember that the positions are numbered 0, 1, 2, ..."
   ]
  },
  {
   "cell_type": "code",
   "execution_count": 525,
   "metadata": {},
   "outputs": [
    {
     "name": "stdout",
     "output_type": "stream",
     "text": [
      "1\n",
      "Python crash course\n",
      "Python Crash Course\n"
     ]
    }
   ],
   "source": [
    "print(nums[0])\n",
    "print(names[3])\n",
    "print(names[3].title())  # .title capitalizes first letter of every word"
   ]
  },
  {
   "cell_type": "markdown",
   "metadata": {},
   "source": [
    "### Using negative index numbers\n",
    "In Python, you can access the elements of a list using either positive or negative numbers. Here's their relationship:\n",
    "\n",
    "`example = ['a', 'b', 'c', 'd', 'e', 'f']`\n",
    "\n",
    "             0    1    2    3    4    5\n",
    "             \n",
    "            -6   -5   -4   -3   -2   -1\n",
    "           \n",
    "Negative indexing can be useful when you need to print the last item(s) of a list."
   ]
  },
  {
   "cell_type": "code",
   "execution_count": 526,
   "metadata": {},
   "outputs": [
    {
     "name": "stdout",
     "output_type": "stream",
     "text": [
      "e\n",
      "e\n"
     ]
    }
   ],
   "source": [
    "example = ['a', 'b', 'c', 'd', 'e', 'f']\n",
    "print(example[4])\n",
    "print(example[-2])"
   ]
  },
  {
   "cell_type": "markdown",
   "metadata": {},
   "source": [
    "### Modifying an existing list element\n",
    "Use the index number of the element you want to change:"
   ]
  },
  {
   "cell_type": "code",
   "execution_count": 527,
   "metadata": {},
   "outputs": [
    {
     "name": "stdout",
     "output_type": "stream",
     "text": [
      "['a', 'b', 'X', 'd', 'e', 'f']\n"
     ]
    }
   ],
   "source": [
    "example[2] = 'X'\n",
    "print(example)"
   ]
  },
  {
   "cell_type": "markdown",
   "metadata": {},
   "source": [
    "### Append a new item to the end of the list\n",
    "Use the list.**append()** method to append a single value to the end of the list.\n"
   ]
  },
  {
   "cell_type": "code",
   "execution_count": 528,
   "metadata": {},
   "outputs": [
    {
     "name": "stdout",
     "output_type": "stream",
     "text": [
      "['a', 'b', 'c', 'd', 'e', 'Z']\n"
     ]
    }
   ],
   "source": [
    "my_list = ['a', 'b', 'c', 'd', 'e']\n",
    "my_list.append('Z')\n",
    "print(my_list)"
   ]
  },
  {
   "cell_type": "markdown",
   "metadata": {},
   "source": [
    "This method makes it easy to build lists dynamically. You can start with an empty list then add items to the list using a series of .append() calls. This is a common method when you don't yet know the data that your users want to store in a program."
   ]
  },
  {
   "cell_type": "code",
   "execution_count": 529,
   "metadata": {},
   "outputs": [
    {
     "name": "stdout",
     "output_type": "stream",
     "text": [
      "['Steinway', 'Bosendorfer', 'Knabe']\n"
     ]
    }
   ],
   "source": [
    "pianos = [] # creates an empty list\n",
    "pianos.append('Steinway')\n",
    "pianos.append('Bosendorfer')\n",
    "pianos.append('Knabe')\n",
    "print(pianos)"
   ]
  },
  {
   "cell_type": "markdown",
   "metadata": {},
   "source": [
    "### Insert a new item into a specific index position\n",
    "Use the list.**insert()** method to insert a new value into the list at a specific position. "
   ]
  },
  {
   "cell_type": "code",
   "execution_count": 530,
   "metadata": {},
   "outputs": [
    {
     "name": "stdout",
     "output_type": "stream",
     "text": [
      "['a', 'b', 'c', 'd', 'e', 'Z']\n"
     ]
    }
   ],
   "source": [
    "my_list = ['a', 'b', 'c', 'd', 'e']\n",
    "my_list.insert(5,'Z')  # .insert(position_to_insert, value_to_insert)\n",
    "print(my_list)"
   ]
  },
  {
   "cell_type": "markdown",
   "metadata": {},
   "source": [
    "### Add multiple items to the end of your list\n",
    "Use the list.**extend()** method "
   ]
  },
  {
   "cell_type": "code",
   "execution_count": 531,
   "metadata": {},
   "outputs": [
    {
     "name": "stdout",
     "output_type": "stream",
     "text": [
      "['a', 'b', 'c', 'd', 'e', 'Z', 'M', 'P', 'Q']\n"
     ]
    }
   ],
   "source": [
    "my_list.extend(['M', 'P', 'Q'])\n",
    "print(my_list)"
   ]
  },
  {
   "cell_type": "markdown",
   "metadata": {},
   "source": [
    "### Remove a specific item\n",
    "Use the del statement to remove a specific item"
   ]
  },
  {
   "cell_type": "code",
   "execution_count": 532,
   "metadata": {},
   "outputs": [
    {
     "name": "stdout",
     "output_type": "stream",
     "text": [
      "['a', 'b', 'c', 'e', 'Z', 'M', 'P', 'Q']\n"
     ]
    }
   ],
   "source": [
    "del my_list[3]  # remove the 'd' from the list\n",
    "print(my_list)"
   ]
  },
  {
   "cell_type": "markdown",
   "metadata": {},
   "source": [
    "### Removing the last item in a list using .pop() \n",
    "Use the list.**pop()** method to remove the last item in the list. You can assign this value to a variable to use at any time.\n",
    "\n",
    "This is often useful if we want to pop off the last item added to our list. This is a LIFO (last IN, first OUT) approach."
   ]
  },
  {
   "cell_type": "code",
   "execution_count": 533,
   "metadata": {},
   "outputs": [
    {
     "name": "stdout",
     "output_type": "stream",
     "text": [
      "['Riichi', 'Hearts', 'Monopoly', 'Uno']\n",
      "['Riichi', 'Hearts', 'Monopoly']\n",
      "Uno\n"
     ]
    }
   ],
   "source": [
    "games = ['Riichi', 'Hearts','Monopoly', 'Uno']\n",
    "print(games)\n",
    "last_game = games.pop()\n",
    "print(games)\n",
    "print(last_game)"
   ]
  },
  {
   "cell_type": "markdown",
   "metadata": {},
   "source": [
    "### Pop(n) specific elements\n",
    "Use the list.**pop(n)** method by inserting the index number for the element you want to pop"
   ]
  },
  {
   "cell_type": "code",
   "execution_count": 534,
   "metadata": {},
   "outputs": [
    {
     "name": "stdout",
     "output_type": "stream",
     "text": [
      "The first game on the list is Riichi.\n",
      "The remaining games are: ['Hearts', 'Monopoly']\n"
     ]
    }
   ],
   "source": [
    "first_game = games.pop(0)\n",
    "print(\"The first game on the list is {}.\".format(first_game))\n",
    "print(\"The remaining games are: {}\".format(games))"
   ]
  },
  {
   "cell_type": "markdown",
   "metadata": {},
   "source": [
    "### Removing an  item by value rather than by index number   \n",
    "Use the list.**remove(*item*)** method when you don't know the index position of the value you want to remove. You can also save that value in a variable if you want.\n",
    "\n",
    "**NOTE**: .remove() deletes only the *first* occurrence of the value yo specify. If that value appears more than once in the list, you'll need to use a **for** loop to make sure all occurrences are removed."
   ]
  },
  {
   "cell_type": "code",
   "execution_count": 535,
   "metadata": {},
   "outputs": [
    {
     "name": "stdout",
     "output_type": "stream",
     "text": [
      "['Riichi', 'Hearts', 'Uno']\n"
     ]
    }
   ],
   "source": [
    "games = ['Riichi', 'Hearts','Monopoly', 'Uno']\n",
    "games.remove('Monopoly')\n",
    "print(games)"
   ]
  },
  {
   "cell_type": "markdown",
   "metadata": {},
   "source": [
    "## SORTING\n",
    "We can use list**.sort( )** method and the **sorted( )** function to sort a list. Each have advantages and disadvantages.\n",
    "\n",
    "Key differences between .sort() and sorted()\n",
    "\n",
    "**.sort() method**\n",
    "* works only for lists\n",
    "* sorts the list *in place*, so slightly faster than sorted()\n",
    "* returns 'None'\n",
    "* permanently changes the list\n",
    "* predates the sorted() function; you'll see it in older code\n",
    "\n",
    "**sorted() function**\n",
    "* works for any iterable type (string, tuple, list, dict, set)\n",
    "* does not sort in place, so slightly slower than .sort() method\n",
    "* returns a new, sorted iterable; therefore, we can print or assign it\n",
    "* does not change the original list\n",
    "* a newer type in Python than .sort"
   ]
  },
  {
   "cell_type": "markdown",
   "metadata": {},
   "source": [
    "### Sorting a list *permanently* – list.sort( )\n",
    "Use the list.**sort( )** method to *permanently* sort the items in alphabetical or numeric order.\n",
    "\n",
    ".sort() sorts the list *in place*\n",
    "\n",
    ".sort() doesn't returns 'None', so if you attempt print(list.sort()), it won't print anything. Therefore, you need to have list.sort() on a line by itself, then you can access the new list afterwards (to print, assign, etc.)\n",
    "\n",
    "You can add the **reverse=True** argument if you want to sort in reverse order: list.sort(reverse=True)"
   ]
  },
  {
   "cell_type": "code",
   "execution_count": 536,
   "metadata": {},
   "outputs": [
    {
     "name": "stdout",
     "output_type": "stream",
     "text": [
      "['David', 'Aaron', 'Seva', 'Victor', 'Miguel']\n",
      "['Aaron', 'David', 'Miguel', 'Seva', 'Victor']\n",
      "['Victor', 'Seva', 'Miguel', 'David', 'Aaron']\n"
     ]
    }
   ],
   "source": [
    "names = ['David', 'Aaron', 'Seva', 'Victor', 'Miguel']\n",
    "print(names)\n",
    "names.sort()\n",
    "print(names)\n",
    "names.sort(reverse = True)\n",
    "print(names)"
   ]
  },
  {
   "cell_type": "markdown",
   "metadata": {},
   "source": [
    "### Sorting a list *temporarily* – sorted( )\n",
    "Use the **sorted( )** function to arrange the items in alphabetical or numeric order in a temporary fashion. This allows you to display your sorted list, but doesn't change the actual order of the list.\n",
    "\n",
    "sorted( ) returns an iterable list, so you can print or assign it to a variable."
   ]
  },
  {
   "cell_type": "code",
   "execution_count": 537,
   "metadata": {},
   "outputs": [
    {
     "name": "stdout",
     "output_type": "stream",
     "text": [
      "['Aaron', 'David', 'Miguel', 'Seva', 'Victor']\n",
      "['David', 'Aaron', 'Seva', 'Victor', 'Miguel']\n"
     ]
    }
   ],
   "source": [
    "names = ['David', 'Aaron', 'Seva', 'Victor', 'Miguel']\n",
    "sorted_names = sorted(names)\n",
    "print(sorted_names)\n",
    "print(names)"
   ]
  },
  {
   "cell_type": "markdown",
   "metadata": {},
   "source": [
    "#### Sorting order for ASCII characters\n",
    "Python uses the ASCII numbering system to sort. Therefore, all capital letters sort before lowercase letters.\n",
    "\n",
    "To sort in a \"natural\" way (aAbBcC...zZ), you can add **key=str.lower** parameter to the sorted function:"
   ]
  },
  {
   "cell_type": "code",
   "execution_count": 538,
   "metadata": {},
   "outputs": [
    {
     "name": "stdout",
     "output_type": "stream",
     "text": [
      "In ASCII order: \t ['A', 'M', 'Z', 'a', 'm', 'z']\n",
      "In natural order: \t ['a', 'A', 'M', 'm', 'z', 'Z']\n"
     ]
    }
   ],
   "source": [
    "letters = ['M', 'a', 'z', 'A', 'm', 'Z']\n",
    "a = sorted(letters)\n",
    "print(\"In ASCII order: \\t\", a)\n",
    "a = sorted(letters, key=str.lower)\n",
    "print(\"In natural order: \\t\", a)"
   ]
  },
  {
   "cell_type": "markdown",
   "metadata": {},
   "source": [
    "### Parameters for list.sort( ) and sorted( )\n",
    "Both of these can accept two parameters:\n",
    "\n",
    "`reverse=True` will sort the list in reverse order\n",
    "\n",
    "`key = function will use either a built-in function or your own function as part of the sort criteria. For example, if you had a list of strings and wanted to sort them by length (# characters), you could do this:"
   ]
  },
  {
   "cell_type": "code",
   "execution_count": 539,
   "metadata": {},
   "outputs": [
    {
     "name": "stdout",
     "output_type": "stream",
     "text": [
      "['the', 'hello', 'sunset', 'observe', 'beautiful', 'unbelievably']\n",
      "['unbelievably', 'beautiful', 'observe', 'sunset', 'hello', 'the']\n"
     ]
    }
   ],
   "source": [
    "b = [\"hello\", \"observe\", \"the\", \"unbelievably\", \"beautiful\", \"sunset\"]\n",
    "print(sorted(b, key=len))\n",
    "print(sorted(b, reverse=True, key=len))"
   ]
  },
  {
   "cell_type": "markdown",
   "metadata": {},
   "source": [
    "Note above that **len** is a built-in Python function. But we can also define our own function, then use that as a parameter for list.sort( ) or sorted( ). *(NOTE: I need to get some examples of defining a function or lambda and using it this way!)*"
   ]
  },
  {
   "cell_type": "markdown",
   "metadata": {},
   "source": [
    "### Looping through a list\n",
    "There are 3 ways to loop through the items of a list. Here they are from the most to least common:\n",
    "\n",
    "`for variable_name in list_name:\n",
    "    print(variable_name)`  \n",
    "<br>      \n",
    "    \n",
    "`for variable_name in range(len(list_name)):  \n",
    "    print(list[variable_name])`    \n",
    " <br>\n",
    " \n",
    "`my_iterator = iter(list)  \n",
    "for variable_name in range(len(list_name)):  \n",
    "    print(next(my_iterator)`  "
   ]
  },
  {
   "cell_type": "code",
   "execution_count": 540,
   "metadata": {},
   "outputs": [
    {
     "name": "stdout",
     "output_type": "stream",
     "text": [
      "David\n",
      "Seva\n",
      "Miguel\n",
      "Victor\n"
     ]
    }
   ],
   "source": [
    "students = ['David', 'Seva', 'Miguel', 'Victor']\n",
    "for name in students:\n",
    "    print(name)"
   ]
  },
  {
   "cell_type": "code",
   "execution_count": 541,
   "metadata": {},
   "outputs": [
    {
     "name": "stdout",
     "output_type": "stream",
     "text": [
      "David\n",
      "Seva\n",
      "Miguel\n",
      "Victor\n"
     ]
    }
   ],
   "source": [
    "for name in range(len(students)):\n",
    "    print(students[name])"
   ]
  },
  {
   "cell_type": "code",
   "execution_count": 542,
   "metadata": {},
   "outputs": [
    {
     "name": "stdout",
     "output_type": "stream",
     "text": [
      "David\n",
      "Seva\n",
      "Miguel\n",
      "Victor\n"
     ]
    }
   ],
   "source": [
    "my_iterator = iter(students)\n",
    "for name in range(len(students)):\n",
    "    print(next(my_iterator))"
   ]
  },
  {
   "cell_type": "markdown",
   "metadata": {},
   "source": [
    "### Length of a list (in # of elements)\n",
    "Use the **len( )** function to find the length in elements."
   ]
  },
  {
   "cell_type": "code",
   "execution_count": 543,
   "metadata": {},
   "outputs": [
    {
     "name": "stdout",
     "output_type": "stream",
     "text": [
      "6\n"
     ]
    }
   ],
   "source": [
    "letters = ['M', 'a', 'z', 'A', 'm', 'Z']\n",
    "print(len(letters))"
   ]
  },
  {
   "cell_type": "markdown",
   "metadata": {},
   "source": [
    "### Slicing – ranges of index numbers and steps\n",
    "In the index brackets [ ] for a list, we can use 3 numbers:\n",
    "\n",
    "`[beginning_index# : ending_index# : steps]`\n",
    "\n",
    "This allows us to access/assign/print specific elements of a list, even skipping every nth element.\n",
    "\n",
    "**Note**: the ending_index # is NOT included. For example, if we want to print the first 5 elements, then the ending index # must be 6. Remember that the elements are numbered 0, 1, 2, 3, ..."
   ]
  },
  {
   "cell_type": "code",
   "execution_count": 544,
   "metadata": {},
   "outputs": [
    {
     "name": "stdout",
     "output_type": "stream",
     "text": [
      "[0, 1, 2, 3]\n",
      "[3, 4, 5, 6]\n",
      "[0, 1, 2, 3, 4, 5, 6, 7]\n",
      "[14, 15, 16]\n",
      "[0, 2, 4, 6, 8, 10, 12, 14, 16]\n",
      "[1, 3, 5, 7, 9]\n",
      "[16, 14, 12, 10]\n"
     ]
    }
   ],
   "source": [
    "nums = [0,1, 2, 3, 4, 5, 6, 7, 8, 9, 10, 11, 12, 13, 14, 15, 16]\n",
    "print(nums[0:4])\n",
    "print(nums[3:7])\n",
    "print(nums[:8]) # if beginning index is missing, start from the beginning\n",
    "print(nums[14:]) # if ending index is missing, print to the last element\n",
    "print(nums[::2]) # beg to end, print every 2nd # 0-16\n",
    "print(nums[1:10:2]) # beg on 2nd element (1), print odds 1-9\n",
    "print(nums[-1:-8:-2]) # start on last element, back to -8th element, skipping by 2"
   ]
  },
  {
   "cell_type": "markdown",
   "metadata": {},
   "source": [
    "#### More examples of indexing and slicing\n",
    "Although such lists are unlikely (and certainly poor practice!), here are some examples of how you could index and slice complicated lists:"
   ]
  },
  {
   "cell_type": "code",
   "execution_count": 545,
   "metadata": {},
   "outputs": [
    {
     "name": "stdout",
     "output_type": "stream",
     "text": [
      "[4, 5, ['target']]\n",
      "['a', 'b', 'c']\n",
      "['target']\n",
      "target\n",
      "a\n"
     ]
    }
   ],
   "source": [
    "nest = [1,2,3,[4,5,['target']], 6, 7, ['a', 'b', 'c']]\n",
    "print(nest[3])\n",
    "print(nest[-1])\n",
    "print(nest[3][2])\n",
    "print(nest[3][2][0])\n",
    "print(nest[-1][0])"
   ]
  },
  {
   "cell_type": "code",
   "execution_count": 546,
   "metadata": {},
   "outputs": [
    {
     "name": "stdout",
     "output_type": "stream",
     "text": [
      "[3, 4, [5, 6, [7, 8]]]\n",
      "[5, 6, [7, 8]]\n",
      "[7, 8]\n",
      "7\n"
     ]
    }
   ],
   "source": [
    "nested = [1, 2, [3, 4, [5, 6, [7, 8]]]]\n",
    "print(nested[2])\n",
    "print(nested[2][2])\n",
    "print(nested[2][2][2])\n",
    "print(nested[2][2][2][0])"
   ]
  },
  {
   "cell_type": "markdown",
   "metadata": {},
   "source": [
    "Or you could use a function to return only the first element of the sorted list:"
   ]
  },
  {
   "cell_type": "code",
   "execution_count": 548,
   "metadata": {},
   "outputs": [],
   "source": [
    "def get_first_elem(my_list):\n",
    "    return my_list[0]"
   ]
  },
  {
   "cell_type": "code",
   "execution_count": 549,
   "metadata": {},
   "outputs": [],
   "source": [
    "c = [\"david\", \"and\", \"bill\", \"can\", \"learn\", \"python\"]"
   ]
  },
  {
   "cell_type": "code",
   "execution_count": 550,
   "metadata": {},
   "outputs": [],
   "source": [
    "d = sorted(c, key = get_first_elem, reverse = True)"
   ]
  },
  {
   "cell_type": "code",
   "execution_count": 551,
   "metadata": {},
   "outputs": [
    {
     "name": "stdout",
     "output_type": "stream",
     "text": [
      "['python', 'learn', 'david', 'can', 'bill', 'and']\n"
     ]
    }
   ],
   "source": [
    "print(d)"
   ]
  },
  {
   "cell_type": "markdown",
   "metadata": {},
   "source": [
    "First the list was sorted in reverse, then the function we called returned the first value in the sorted list, which was 'python'  \n",
    "\n",
    "**Be careful:** if the list has upper and lower case letters, all the uppercase will be sorted in front of the lowercase:"
   ]
  },
  {
   "cell_type": "code",
   "execution_count": 553,
   "metadata": {},
   "outputs": [],
   "source": [
    "f = [\"A\", \"c\", \"C\", \"B\", \"a\", \"b\"]"
   ]
  },
  {
   "cell_type": "code",
   "execution_count": 554,
   "metadata": {},
   "outputs": [],
   "source": [
    "g = sorted(f)"
   ]
  },
  {
   "cell_type": "code",
   "execution_count": 555,
   "metadata": {},
   "outputs": [
    {
     "name": "stdout",
     "output_type": "stream",
     "text": [
      "['A', 'B', 'C', 'a', 'b', 'c']\n"
     ]
    }
   ],
   "source": [
    "print(g)"
   ]
  },
  {
   "cell_type": "markdown",
   "metadata": {},
   "source": [
    "To get around this upper/lower-case issue, you can use `key = str.lower`   \n",
    "\n",
    "Remember that this will NOT change the actual string – the function simply passes your lowercase string to the sorted function which uses it to sort the string:"
   ]
  },
  {
   "cell_type": "code",
   "execution_count": 557,
   "metadata": {},
   "outputs": [],
   "source": [
    "my_str = ['ccc', 'ABC', 'zZza', 'Zxy', 'a']"
   ]
  },
  {
   "cell_type": "code",
   "execution_count": 558,
   "metadata": {},
   "outputs": [
    {
     "name": "stdout",
     "output_type": "stream",
     "text": [
      "['a', 'ABC', 'ccc', 'Zxy', 'zZza']\n"
     ]
    }
   ],
   "source": [
    "print(sorted(my_str, key=str.lower))"
   ]
  },
  {
   "cell_type": "markdown",
   "metadata": {},
   "source": [
    "As an example, the following example calls a function that says 'return x % 7'. This does NOT actually change the elements of the list to be mod 7.  \n",
    "It passes the mod 7 results to the sorted( ) function, which then bases its sorting on that result.  \n",
    "\n",
    "So, in this example, 21%7 is 0, so 21 will be placed first in the sorted list. 15%7 = 1, so this will be the second item in the sorted list. Likewise, 4%7 = 4, so 4 will come next, and lastly 20%7 = 6, so it is last."
   ]
  },
  {
   "cell_type": "code",
   "execution_count": 560,
   "metadata": {},
   "outputs": [
    {
     "name": "stdout",
     "output_type": "stream",
     "text": [
      "1 4 6 0\n",
      "[21, 15, 4, 20]\n"
     ]
    }
   ],
   "source": [
    "def func(x):\n",
    "    return x%7\n",
    "L = [15,4,20,21]\n",
    "print(15%7, 4%7, 20%7, 21%7)\n",
    "print(sorted(L, key=func))"
   ]
  },
  {
   "cell_type": "markdown",
   "metadata": {},
   "source": [
    "### Make a copy of a list\n",
    "There are two ways to duplicate a list:  \n",
    "\n",
    "1. Use the list.**copy( )** method  \n",
    "2. Use the **list( )** function  "
   ]
  },
  {
   "cell_type": "code",
   "execution_count": 561,
   "metadata": {},
   "outputs": [
    {
     "name": "stdout",
     "output_type": "stream",
     "text": [
      "[1, 2, 3]\n",
      "[1, 2, 3]\n"
     ]
    }
   ],
   "source": [
    "list1 = [1, 2, 3]\n",
    "list2 = list1.copy()\n",
    "list3 = list(list1)\n",
    "print(list2)\n",
    "print(list3)"
   ]
  },
  {
   "cell_type": "markdown",
   "metadata": {},
   "source": [
    "### Join two (or more) lists\n",
    "There are two ways to do this:  \n",
    "\n",
    "1. Use the **+** operator, and assign to a new variable:  \n",
    "`list3 = list1 + list2  `\n",
    "   \n",
    "2. Use the list**.extend( )** method to extend an *existing* list. Keep in mind that this will permanently change your list!    \n",
    "`list1 = [...]  \n",
    "list2 = [...]  \n",
    "list1.extend(list2)`  \n"
   ]
  },
  {
   "cell_type": "code",
   "execution_count": 562,
   "metadata": {},
   "outputs": [
    {
     "name": "stdout",
     "output_type": "stream",
     "text": [
      "list3 =  [1, 2, 3, 4, 5, 6]\n",
      "list4 =  [10, 11, 12, 13, 14, 15]\n"
     ]
    }
   ],
   "source": [
    "list1 = [1, 2, 3]\n",
    "list2 = [4, 5, 6]\n",
    "list3 = list1 + list2\n",
    "print(\"list3 = \",list3)\n",
    "\n",
    "list4 = [10, 11, 12]\n",
    "list5 = [13, 14, 15]\n",
    "list4.extend(list5)\n",
    "print(\"list4 = \", list4)\n"
   ]
  },
  {
   "cell_type": "markdown",
   "metadata": {},
   "source": [
    "Keep in mind that a string is an iterable, so if you extend a list with a string, you'll append each character as a separate element:"
   ]
  },
  {
   "cell_type": "code",
   "execution_count": 563,
   "metadata": {},
   "outputs": [
    {
     "name": "stdout",
     "output_type": "stream",
     "text": [
      "['David', 241, 'S', 'e', 'v', 'a']\n"
     ]
    }
   ],
   "source": [
    "list6 = ['David', 241]\n",
    "name = 'Seva'\n",
    "list6.extend(name)\n",
    "print(list6)"
   ]
  },
  {
   "cell_type": "markdown",
   "metadata": {},
   "source": [
    "### List Comprehensions\n",
    "A list comprehension is a concise way to iterate through a list rather than using a **for** loop. (We can also use comprehensions for dictionaries, sets, and generators.) This is a concise way to generate a new list.\n",
    "\n",
    "Format:  \n",
    "`new_list = [expression for variable in input_list <optional_if_statement(s)>]  `\n",
    "\n",
    "The example below shows how much more concise a list comprehension is compared to a for loop:\n",
    "\n"
   ]
  },
  {
   "cell_type": "code",
   "execution_count": 564,
   "metadata": {},
   "outputs": [
    {
     "name": "stdout",
     "output_type": "stream",
     "text": [
      "Output List using for loop: [2, 4, 6, 8, 10]\n"
     ]
    }
   ],
   "source": [
    "# Constructing output list using for loop \n",
    "input_list = [1, 2, 3, 4, 5, 6, 7, 8, 9, 10] \n",
    "output_list = [] \n",
    "\n",
    "for var in input_list: \n",
    "    if var % 2 == 0: # if element is even\n",
    "        output_list.append(var)  # then append it to our new list\n",
    "\n",
    "print(\"Output List using for loop:\", output_list) "
   ]
  },
  {
   "cell_type": "code",
   "execution_count": null,
   "metadata": {},
   "outputs": [],
   "source": []
  },
  {
   "cell_type": "code",
   "execution_count": 565,
   "metadata": {},
   "outputs": [
    {
     "name": "stdout",
     "output_type": "stream",
     "text": [
      "Output List using list comprehensions: [2, 4, 6, 8, 10]\n"
     ]
    }
   ],
   "source": [
    "# Using List comprehension \n",
    "input_list = [1, 2, 3, 4, 5, 6, 7, 8, 9, 10]\n",
    "list_using_comp = [num for num in input_list if num % 2 == 0]\n",
    "print(\"Output List using list comprehensions:\", list_using_comp)"
   ]
  },
  {
   "cell_type": "markdown",
   "metadata": {},
   "source": [
    "Another example: Suppose we want to want to raise all the numbers in a list to the 5th power. Here are the **for** loop and **comprehension** methods to do this.  \n",
    "\n",
    "Note: this example uses the **range( )** function. It is used to generate a sequence of numbers. \n",
    "*See my separate notes for range.*   \n",
    "\n",
    "We also need to use the **len( )** function to determine how many elements are in the list. We pass this number to the range( ) function so it knows how many times to loop."
   ]
  },
  {
   "cell_type": "code",
   "execution_count": 566,
   "metadata": {},
   "outputs": [
    {
     "name": "stdout",
     "output_type": "stream",
     "text": [
      "[0, 1, 32, 243, 1024, 3125, 7776]\n"
     ]
    }
   ],
   "source": [
    "# Using a for loop:\n",
    "numbers = [1, 2, 3, 4, 5, 6, 7]\n",
    "squares = []\n",
    "for num in range(len(numbers)):\n",
    "    squares.append(num**5)\n",
    "print(squares)"
   ]
  },
  {
   "cell_type": "code",
   "execution_count": 567,
   "metadata": {},
   "outputs": [
    {
     "name": "stdout",
     "output_type": "stream",
     "text": [
      "[0, 1, 32, 243, 1024, 3125, 7776]\n"
     ]
    }
   ],
   "source": [
    "# Using comprehension:\n",
    "numbers = [1, 2, 3, 4, 5, 6, 7]\n",
    "squares = [num**5 for num in range(len(numbers))]\n",
    "print(squares)"
   ]
  },
  {
   "cell_type": "code",
   "execution_count": null,
   "metadata": {},
   "outputs": [],
   "source": []
  }
 ],
 "metadata": {
  "kernelspec": {
   "display_name": "Python 3",
   "language": "python",
   "name": "python3"
  },
  "language_info": {
   "codemirror_mode": {
    "name": "ipython",
    "version": 3
   },
   "file_extension": ".py",
   "mimetype": "text/x-python",
   "name": "python",
   "nbconvert_exporter": "python",
   "pygments_lexer": "ipython3",
   "version": "3.8.2"
  }
 },
 "nbformat": 4,
 "nbformat_minor": 4
}
